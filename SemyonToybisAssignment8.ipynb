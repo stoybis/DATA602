{
 "cells": [
  {
   "cell_type": "markdown",
   "id": "be4d3d7c",
   "metadata": {},
   "source": [
    "## Assignment 8"
   ]
  },
  {
   "cell_type": "markdown",
   "id": "b9e830bd",
   "metadata": {},
   "source": [
    "### Introduction"
   ]
  },
  {
   "cell_type": "markdown",
   "id": "84141014",
   "metadata": {},
   "source": [
    "We are tasked with analyzing a public data-set, conducting data exploration, wrangling, and creating visualizations via Matplotlib and Seaborn."
   ]
  },
  {
   "cell_type": "markdown",
   "id": "5e3b6ca4",
   "metadata": {},
   "source": [
    "I'm interested in analyzing air quality measurements in New York City. While the data is from 2022, the recent wildfires in the NYC led me to investigate how air quality has historically looked in the City."
   ]
  },
  {
   "cell_type": "markdown",
   "id": "e185bbad",
   "metadata": {},
   "source": [
    "This data is available at the below link:\n",
    "https://data.cityofnewyork.us/Environment/Air-Quality/c3uy-2p5r/about_data\n",
    "\n",
    "I am importing the data via the API. Note that the API restricts the import to the first 1,000 rows of the dataset (the dataset has 18k rows total). I will import the first 2,000 rows as this is enough for the purposes of this analysis but it is important to note that this is just a subset of the full data."
   ]
  },
  {
   "cell_type": "markdown",
   "id": "2b079926",
   "metadata": {},
   "source": [
    "### Data exploration"
   ]
  },
  {
   "cell_type": "markdown",
   "id": "da76e4cf",
   "metadata": {},
   "source": [
    "Below I import the necessary libraries, import the data-set, and conduct exploratory data analysis"
   ]
  },
  {
   "cell_type": "code",
   "execution_count": 1,
   "id": "feeb3193",
   "metadata": {},
   "outputs": [],
   "source": [
    "import pandas as pd\n",
    "import numpy as np\n",
    "import matplotlib.pyplot as plt\n",
    "import seaborn as sns"
   ]
  },
  {
   "cell_type": "code",
   "execution_count": 2,
   "id": "db2deaaa",
   "metadata": {},
   "outputs": [
    {
     "data": {
      "text/html": [
       "<div>\n",
       "<style scoped>\n",
       "    .dataframe tbody tr th:only-of-type {\n",
       "        vertical-align: middle;\n",
       "    }\n",
       "\n",
       "    .dataframe tbody tr th {\n",
       "        vertical-align: top;\n",
       "    }\n",
       "\n",
       "    .dataframe thead th {\n",
       "        text-align: right;\n",
       "    }\n",
       "</style>\n",
       "<table border=\"1\" class=\"dataframe\">\n",
       "  <thead>\n",
       "    <tr style=\"text-align: right;\">\n",
       "      <th></th>\n",
       "      <th>unique_id</th>\n",
       "      <th>indicator_id</th>\n",
       "      <th>name</th>\n",
       "      <th>measure</th>\n",
       "      <th>measure_info</th>\n",
       "      <th>geo_type_name</th>\n",
       "      <th>geo_join_id</th>\n",
       "      <th>geo_place_name</th>\n",
       "      <th>time_period</th>\n",
       "      <th>start_date</th>\n",
       "      <th>data_value</th>\n",
       "      <th>message</th>\n",
       "    </tr>\n",
       "  </thead>\n",
       "  <tbody>\n",
       "    <tr>\n",
       "      <th>0</th>\n",
       "      <td>825849</td>\n",
       "      <td>375</td>\n",
       "      <td>Nitrogen dioxide (NO2)</td>\n",
       "      <td>Mean</td>\n",
       "      <td>ppb</td>\n",
       "      <td>CD</td>\n",
       "      <td>101</td>\n",
       "      <td>Financial District (CD1)</td>\n",
       "      <td>Summer 2022</td>\n",
       "      <td>2022-06-01T00:00:00.000</td>\n",
       "      <td>16.9</td>\n",
       "      <td>NaN</td>\n",
       "    </tr>\n",
       "    <tr>\n",
       "      <th>1</th>\n",
       "      <td>823483</td>\n",
       "      <td>365</td>\n",
       "      <td>Fine particles (PM 2.5)</td>\n",
       "      <td>Mean</td>\n",
       "      <td>mcg/m3</td>\n",
       "      <td>CD</td>\n",
       "      <td>304</td>\n",
       "      <td>Bushwick (CD4)</td>\n",
       "      <td>Summer 2022</td>\n",
       "      <td>2022-06-01T00:00:00.000</td>\n",
       "      <td>6.8</td>\n",
       "      <td>NaN</td>\n",
       "    </tr>\n",
       "    <tr>\n",
       "      <th>2</th>\n",
       "      <td>823373</td>\n",
       "      <td>365</td>\n",
       "      <td>Fine particles (PM 2.5)</td>\n",
       "      <td>Mean</td>\n",
       "      <td>mcg/m3</td>\n",
       "      <td>UHF34</td>\n",
       "      <td>305307</td>\n",
       "      <td>Upper East Side-Gramercy</td>\n",
       "      <td>Summer 2022</td>\n",
       "      <td>2022-06-01T00:00:00.000</td>\n",
       "      <td>7.5</td>\n",
       "      <td>NaN</td>\n",
       "    </tr>\n",
       "    <tr>\n",
       "      <th>3</th>\n",
       "      <td>823495</td>\n",
       "      <td>365</td>\n",
       "      <td>Fine particles (PM 2.5)</td>\n",
       "      <td>Mean</td>\n",
       "      <td>mcg/m3</td>\n",
       "      <td>CD</td>\n",
       "      <td>308</td>\n",
       "      <td>Crown Heights and Prospect Heights (CD8)</td>\n",
       "      <td>Summer 2022</td>\n",
       "      <td>2022-06-01T00:00:00.000</td>\n",
       "      <td>6.6</td>\n",
       "      <td>NaN</td>\n",
       "    </tr>\n",
       "    <tr>\n",
       "      <th>4</th>\n",
       "      <td>823567</td>\n",
       "      <td>365</td>\n",
       "      <td>Fine particles (PM 2.5)</td>\n",
       "      <td>Mean</td>\n",
       "      <td>mcg/m3</td>\n",
       "      <td>CD</td>\n",
       "      <td>414</td>\n",
       "      <td>Rockaway and Broad Channel (CD14)</td>\n",
       "      <td>Summer 2022</td>\n",
       "      <td>2022-06-01T00:00:00.000</td>\n",
       "      <td>5.5</td>\n",
       "      <td>NaN</td>\n",
       "    </tr>\n",
       "  </tbody>\n",
       "</table>\n",
       "</div>"
      ],
      "text/plain": [
       "   unique_id  indicator_id                     name measure measure_info  \\\n",
       "0     825849           375   Nitrogen dioxide (NO2)    Mean          ppb   \n",
       "1     823483           365  Fine particles (PM 2.5)    Mean       mcg/m3   \n",
       "2     823373           365  Fine particles (PM 2.5)    Mean       mcg/m3   \n",
       "3     823495           365  Fine particles (PM 2.5)    Mean       mcg/m3   \n",
       "4     823567           365  Fine particles (PM 2.5)    Mean       mcg/m3   \n",
       "\n",
       "  geo_type_name  geo_join_id                            geo_place_name  \\\n",
       "0            CD          101                  Financial District (CD1)   \n",
       "1            CD          304                            Bushwick (CD4)   \n",
       "2         UHF34       305307                  Upper East Side-Gramercy   \n",
       "3            CD          308  Crown Heights and Prospect Heights (CD8)   \n",
       "4            CD          414         Rockaway and Broad Channel (CD14)   \n",
       "\n",
       "   time_period               start_date  data_value  message  \n",
       "0  Summer 2022  2022-06-01T00:00:00.000        16.9      NaN  \n",
       "1  Summer 2022  2022-06-01T00:00:00.000         6.8      NaN  \n",
       "2  Summer 2022  2022-06-01T00:00:00.000         7.5      NaN  \n",
       "3  Summer 2022  2022-06-01T00:00:00.000         6.6      NaN  \n",
       "4  Summer 2022  2022-06-01T00:00:00.000         5.5      NaN  "
      ]
     },
     "execution_count": 2,
     "metadata": {},
     "output_type": "execute_result"
    }
   ],
   "source": [
    "data = pd.read_csv('https://data.cityofnewyork.us/resource/c3uy-2p5r.csv?$limit=2000')\n",
    "\n",
    "data.head()"
   ]
  },
  {
   "cell_type": "code",
   "execution_count": 3,
   "id": "6f3daa47",
   "metadata": {},
   "outputs": [
    {
     "name": "stdout",
     "output_type": "stream",
     "text": [
      "<class 'pandas.core.frame.DataFrame'>\n",
      "RangeIndex: 2000 entries, 0 to 1999\n",
      "Data columns (total 12 columns):\n",
      " #   Column          Non-Null Count  Dtype  \n",
      "---  ------          --------------  -----  \n",
      " 0   unique_id       2000 non-null   int64  \n",
      " 1   indicator_id    2000 non-null   int64  \n",
      " 2   name            2000 non-null   object \n",
      " 3   measure         2000 non-null   object \n",
      " 4   measure_info    2000 non-null   object \n",
      " 5   geo_type_name   2000 non-null   object \n",
      " 6   geo_join_id     2000 non-null   int64  \n",
      " 7   geo_place_name  2000 non-null   object \n",
      " 8   time_period     2000 non-null   object \n",
      " 9   start_date      2000 non-null   object \n",
      " 10  data_value      2000 non-null   float64\n",
      " 11  message         0 non-null      float64\n",
      "dtypes: float64(2), int64(3), object(7)\n",
      "memory usage: 187.6+ KB\n"
     ]
    }
   ],
   "source": [
    "data.info()"
   ]
  },
  {
   "cell_type": "code",
   "execution_count": 4,
   "id": "71cbc46a",
   "metadata": {
    "scrolled": true
   },
   "outputs": [
    {
     "name": "stdout",
     "output_type": "stream",
     "text": [
      "['Financial District (CD1)' 'Bushwick (CD4)' 'Upper East Side-Gramercy'\n",
      " 'Crown Heights and Prospect Heights (CD8)'\n",
      " 'Rockaway and Broad Channel (CD14)' 'Bedford Stuyvesant (CD3)'\n",
      " 'Southeast Queens' 'Central Harlem - Morningside Heights' 'Borough Park'\n",
      " 'Hillcrest and Fresh Meadows (CD8)' 'Central Harlem (CD10)'\n",
      " 'Northeast Bronx' 'Rockaways' 'Bensonhurst (CD11)'\n",
      " 'Ridgewood and Maspeth (CD5)' 'East Harlem' 'Northern SI'\n",
      " 'South Beach - Tottenville' 'Greenwich Village and Soho (CD2)'\n",
      " 'Brownsville (CD16)' 'Downtown - Heights - Slope' 'Queens'\n",
      " 'Ridgewood - Forest Hills' 'Upper West Side' 'Bensonhurst - Bay Ridge'\n",
      " 'Kingsbridge - Riverdale' 'Clinton and Chelsea (CD4)' 'Crotona -Tremont'\n",
      " 'Chelsea - Clinton' 'Elmhurst and Corona (CD4)'\n",
      " 'Fordham and University Heights (CD5)' 'Upper East Side'\n",
      " 'Southwest Queens' 'Williamsburg - Bushwick' 'Flushing - Clearview'\n",
      " 'Bay Ridge and Dyker Heights (CD10)' 'East Harlem (CD11)'\n",
      " 'Highbridge and Concourse (CD4)' 'Sunset Park' 'East Flatbush (CD17)'\n",
      " 'Fresh Meadows' 'Greenwich Village - SoHo' 'Jamaica' 'Lower Manhattan'\n",
      " 'West Queens' 'Throgs Neck and Co-op City (CD10)' 'Queens Village (CD13)'\n",
      " 'Borough Park (CD12)' 'Belmont and East Tremont (CD6)'\n",
      " 'Coney Island - Sheepshead Bay'\n",
      " 'Morningside Heights and Hamilton Heights (CD9)' 'Fordham - Bronx Pk'\n",
      " 'Upper West Side (CD7)' 'Greenpoint' 'Pelham - Throgs Neck'\n",
      " 'Hunts Point - Mott Haven' 'Bedford Stuyvesant - Crown Heights'\n",
      " 'Rego Park and Forest Hills (CD6)' 'East Flatbush - Flatbush'\n",
      " 'Morrisania and Crotona (CD3)' 'Jackson Heights (CD3)'\n",
      " 'Sunset Park (CD7)' 'Canarsie - Flatlands' 'Coney Island (CD13)'\n",
      " 'Fort Greene and Brooklyn Heights (CD2)'\n",
      " 'Morris Park and Bronxdale (CD11)' 'Tottenville and Great Kills (CD3)'\n",
      " 'Washington Heights' 'Hunts Point and Longwood (CD2)'\n",
      " 'Jamaica and Hollis (CD12)' 'Long Island City - Astoria' 'Port Richmond'\n",
      " 'Gramercy Park - Murray Hill' 'Kew Gardens and Woodhaven (CD9)'\n",
      " 'St. George and Stapleton (CD1)' 'Union Square - Lower East Side'\n",
      " 'Parkchester and Soundview (CD9)' 'Bayside - Little Neck'\n",
      " 'Riverdale and Fieldston (CD8)' 'Bronx' 'Southern SI'\n",
      " 'Kingsbridge Heights and Bedford (CD7)'\n",
      " 'South Ozone Park and Howard Beach (CD10)'\n",
      " 'Greenpoint and Williamsburg (CD1)'\n",
      " 'Williamsbridge and Baychester (CD12)' 'Woodside and Sunnyside (CD2)'\n",
      " 'Flatlands and Canarsie (CD18)' 'South Beach and Willowbrook (CD2)'\n",
      " 'High Bridge - Morrisania' 'Willowbrook' 'Sheepshead Bay (CD15)'\n",
      " 'Upper East Side (CD8)' 'Flatbush and Midwood (CD14)'\n",
      " 'South Crown Heights and Lefferts Gardens (CD9)'\n",
      " 'Washington Heights and Inwood (CD12)' 'Bayside and Little Neck (CD11)'\n",
      " 'Long Island City and Astoria (CD1)'\n",
      " 'East New York and Starrett City (CD5)'\n",
      " 'Lower East Side and Chinatown (CD3)' 'Midtown (CD5)'\n",
      " 'Flushing and Whitestone (CD7)' 'New York City'\n",
      " 'Stuyvesant Town and Turtle Bay (CD6)'\n",
      " 'Bayside Little Neck-Fresh Meadows' 'South Bronx' 'Brooklyn'\n",
      " 'Chelsea-Village' 'Staten Island' 'East New York'\n",
      " 'Mott Haven and Melrose (CD1)' 'Union Square-Lower Manhattan'\n",
      " 'Park Slope and Carroll Gardens (CD6)' 'Manhattan'\n",
      " 'Stapleton - St. George']\n"
     ]
    }
   ],
   "source": [
    "print(data['geo_place_name'].unique())"
   ]
  },
  {
   "cell_type": "code",
   "execution_count": 5,
   "id": "898f4236",
   "metadata": {},
   "outputs": [
    {
     "name": "stdout",
     "output_type": "stream",
     "text": [
      "['Mean']\n"
     ]
    }
   ],
   "source": [
    "print(data['measure'].unique())"
   ]
  },
  {
   "cell_type": "code",
   "execution_count": 6,
   "id": "59496681",
   "metadata": {},
   "outputs": [
    {
     "name": "stdout",
     "output_type": "stream",
     "text": [
      "['Nitrogen dioxide (NO2)' 'Fine particles (PM 2.5)' 'Ozone (O3)']\n"
     ]
    }
   ],
   "source": [
    "print(data['name'].unique())"
   ]
  },
  {
   "cell_type": "code",
   "execution_count": 7,
   "id": "3ac47bda",
   "metadata": {},
   "outputs": [
    {
     "name": "stdout",
     "output_type": "stream",
     "text": [
      "['Summer 2022' 'Annual Average 2022' 'Winter 2021-22' 'Summer 2021'\n",
      " 'Annual Average 2021' 'Winter 2020-21' 'Summer 2020']\n"
     ]
    }
   ],
   "source": [
    "print(data['time_period'].unique())"
   ]
  },
  {
   "cell_type": "code",
   "execution_count": 8,
   "id": "36505448",
   "metadata": {},
   "outputs": [
    {
     "data": {
      "text/plain": [
       "unique_id            0\n",
       "indicator_id         0\n",
       "name                 0\n",
       "measure              0\n",
       "measure_info         0\n",
       "geo_type_name        0\n",
       "geo_join_id          0\n",
       "geo_place_name       0\n",
       "time_period          0\n",
       "start_date           0\n",
       "data_value           0\n",
       "message           2000\n",
       "dtype: int64"
      ]
     },
     "execution_count": 8,
     "metadata": {},
     "output_type": "execute_result"
    }
   ],
   "source": [
    "data.isnull().sum()"
   ]
  },
  {
   "cell_type": "markdown",
   "id": "a82639c1",
   "metadata": {},
   "source": [
    "From the above, we can see there are a variety of measurement locations, however all measurements show the mean value. The data set includes measurements for Summer 2021, Winter 2021-22, Summer 2022, and Annual Average 2022. There are a variety of measurement locations. \n",
    "\n",
    "I will drop the 'message' column since it is all NAs and does not contribute to the analysis."
   ]
  },
  {
   "cell_type": "code",
   "execution_count": 9,
   "id": "cacc3401",
   "metadata": {},
   "outputs": [
    {
     "data": {
      "text/plain": [
       "Index(['unique_id', 'indicator_id', 'name', 'measure', 'measure_info',\n",
       "       'geo_type_name', 'geo_join_id', 'geo_place_name', 'time_period',\n",
       "       'start_date', 'data_value'],\n",
       "      dtype='object')"
      ]
     },
     "execution_count": 9,
     "metadata": {},
     "output_type": "execute_result"
    }
   ],
   "source": [
    "data = data.drop('message', axis=1)\n",
    "data.columns"
   ]
  },
  {
   "cell_type": "markdown",
   "id": "89702b0a",
   "metadata": {},
   "source": [
    "Below I check how many observations I have for each time period."
   ]
  },
  {
   "cell_type": "code",
   "execution_count": 10,
   "id": "6e46eaf3",
   "metadata": {},
   "outputs": [
    {
     "data": {
      "text/plain": [
       "Summer 2022            423\n",
       "Summer 2021            423\n",
       "Annual Average 2022    282\n",
       "Winter 2021-22         282\n",
       "Annual Average 2021    282\n",
       "Winter 2020-21         282\n",
       "Summer 2020             26\n",
       "Name: time_period, dtype: int64"
      ]
     },
     "execution_count": 10,
     "metadata": {},
     "output_type": "execute_result"
    }
   ],
   "source": [
    "data['time_period'].value_counts()"
   ]
  },
  {
   "cell_type": "markdown",
   "id": "57538e12",
   "metadata": {},
   "source": [
    "Next, I look at the summary statistics for the 'data_value' column, grouped by the 'name' column"
   ]
  },
  {
   "cell_type": "code",
   "execution_count": 11,
   "id": "e93d2aaf",
   "metadata": {},
   "outputs": [
    {
     "data": {
      "text/html": [
       "<div>\n",
       "<style scoped>\n",
       "    .dataframe tbody tr th:only-of-type {\n",
       "        vertical-align: middle;\n",
       "    }\n",
       "\n",
       "    .dataframe tbody tr th {\n",
       "        vertical-align: top;\n",
       "    }\n",
       "\n",
       "    .dataframe thead tr th {\n",
       "        text-align: left;\n",
       "    }\n",
       "</style>\n",
       "<table border=\"1\" class=\"dataframe\">\n",
       "  <thead>\n",
       "    <tr>\n",
       "      <th>name</th>\n",
       "      <th colspan=\"7\" halign=\"left\">Fine particles (PM 2.5)</th>\n",
       "      <th colspan=\"7\" halign=\"left\">Nitrogen dioxide (NO2)</th>\n",
       "      <th colspan=\"3\" halign=\"left\">Ozone (O3)</th>\n",
       "    </tr>\n",
       "    <tr>\n",
       "      <th>time_period</th>\n",
       "      <th>Annual Average 2021</th>\n",
       "      <th>Annual Average 2022</th>\n",
       "      <th>Summer 2020</th>\n",
       "      <th>Summer 2021</th>\n",
       "      <th>Summer 2022</th>\n",
       "      <th>Winter 2020-21</th>\n",
       "      <th>Winter 2021-22</th>\n",
       "      <th>Annual Average 2021</th>\n",
       "      <th>Annual Average 2022</th>\n",
       "      <th>Summer 2020</th>\n",
       "      <th>Summer 2021</th>\n",
       "      <th>Summer 2022</th>\n",
       "      <th>Winter 2020-21</th>\n",
       "      <th>Winter 2021-22</th>\n",
       "      <th>Summer 2020</th>\n",
       "      <th>Summer 2021</th>\n",
       "      <th>Summer 2022</th>\n",
       "    </tr>\n",
       "  </thead>\n",
       "  <tbody>\n",
       "    <tr>\n",
       "      <th>count</th>\n",
       "      <td>141.000000</td>\n",
       "      <td>141.000000</td>\n",
       "      <td>11.000000</td>\n",
       "      <td>141.000000</td>\n",
       "      <td>141.000000</td>\n",
       "      <td>141.000000</td>\n",
       "      <td>141.000000</td>\n",
       "      <td>141.000000</td>\n",
       "      <td>141.000000</td>\n",
       "      <td>10.000000</td>\n",
       "      <td>141.000000</td>\n",
       "      <td>141.000000</td>\n",
       "      <td>141.000000</td>\n",
       "      <td>141.000000</td>\n",
       "      <td>5.000000</td>\n",
       "      <td>141.000000</td>\n",
       "      <td>141.000000</td>\n",
       "    </tr>\n",
       "    <tr>\n",
       "      <th>mean</th>\n",
       "      <td>6.760993</td>\n",
       "      <td>6.067376</td>\n",
       "      <td>7.172727</td>\n",
       "      <td>8.617730</td>\n",
       "      <td>6.728369</td>\n",
       "      <td>6.907092</td>\n",
       "      <td>7.076596</td>\n",
       "      <td>17.004255</td>\n",
       "      <td>16.054610</td>\n",
       "      <td>12.250000</td>\n",
       "      <td>12.631206</td>\n",
       "      <td>11.921277</td>\n",
       "      <td>21.837589</td>\n",
       "      <td>21.330496</td>\n",
       "      <td>30.920000</td>\n",
       "      <td>29.736879</td>\n",
       "      <td>33.156028</td>\n",
       "    </tr>\n",
       "    <tr>\n",
       "      <th>std</th>\n",
       "      <td>0.563759</td>\n",
       "      <td>0.711487</td>\n",
       "      <td>0.433799</td>\n",
       "      <td>0.669785</td>\n",
       "      <td>0.630230</td>\n",
       "      <td>0.562983</td>\n",
       "      <td>0.699453</td>\n",
       "      <td>2.591190</td>\n",
       "      <td>2.556573</td>\n",
       "      <td>2.650052</td>\n",
       "      <td>3.247947</td>\n",
       "      <td>2.711083</td>\n",
       "      <td>2.140212</td>\n",
       "      <td>2.396752</td>\n",
       "      <td>1.164903</td>\n",
       "      <td>1.523268</td>\n",
       "      <td>2.139238</td>\n",
       "    </tr>\n",
       "    <tr>\n",
       "      <th>min</th>\n",
       "      <td>5.900000</td>\n",
       "      <td>5.000000</td>\n",
       "      <td>6.500000</td>\n",
       "      <td>7.200000</td>\n",
       "      <td>5.500000</td>\n",
       "      <td>6.300000</td>\n",
       "      <td>5.700000</td>\n",
       "      <td>11.100000</td>\n",
       "      <td>9.300000</td>\n",
       "      <td>7.500000</td>\n",
       "      <td>4.900000</td>\n",
       "      <td>6.800000</td>\n",
       "      <td>17.400000</td>\n",
       "      <td>14.500000</td>\n",
       "      <td>29.300000</td>\n",
       "      <td>26.900000</td>\n",
       "      <td>27.700000</td>\n",
       "    </tr>\n",
       "    <tr>\n",
       "      <th>25%</th>\n",
       "      <td>6.400000</td>\n",
       "      <td>5.600000</td>\n",
       "      <td>6.900000</td>\n",
       "      <td>8.200000</td>\n",
       "      <td>6.200000</td>\n",
       "      <td>6.500000</td>\n",
       "      <td>6.700000</td>\n",
       "      <td>15.300000</td>\n",
       "      <td>14.700000</td>\n",
       "      <td>10.850000</td>\n",
       "      <td>10.800000</td>\n",
       "      <td>10.300000</td>\n",
       "      <td>20.200000</td>\n",
       "      <td>19.900000</td>\n",
       "      <td>30.600000</td>\n",
       "      <td>28.600000</td>\n",
       "      <td>31.500000</td>\n",
       "    </tr>\n",
       "    <tr>\n",
       "      <th>50%</th>\n",
       "      <td>6.600000</td>\n",
       "      <td>6.000000</td>\n",
       "      <td>7.200000</td>\n",
       "      <td>8.600000</td>\n",
       "      <td>6.800000</td>\n",
       "      <td>6.700000</td>\n",
       "      <td>7.000000</td>\n",
       "      <td>16.700000</td>\n",
       "      <td>15.800000</td>\n",
       "      <td>13.400000</td>\n",
       "      <td>12.300000</td>\n",
       "      <td>11.500000</td>\n",
       "      <td>21.800000</td>\n",
       "      <td>21.300000</td>\n",
       "      <td>30.700000</td>\n",
       "      <td>29.700000</td>\n",
       "      <td>33.600000</td>\n",
       "    </tr>\n",
       "    <tr>\n",
       "      <th>75%</th>\n",
       "      <td>7.000000</td>\n",
       "      <td>6.300000</td>\n",
       "      <td>7.400000</td>\n",
       "      <td>8.900000</td>\n",
       "      <td>7.100000</td>\n",
       "      <td>7.100000</td>\n",
       "      <td>7.300000</td>\n",
       "      <td>18.600000</td>\n",
       "      <td>17.400000</td>\n",
       "      <td>14.000000</td>\n",
       "      <td>14.500000</td>\n",
       "      <td>13.400000</td>\n",
       "      <td>23.100000</td>\n",
       "      <td>22.700000</td>\n",
       "      <td>31.600000</td>\n",
       "      <td>30.500000</td>\n",
       "      <td>34.600000</td>\n",
       "    </tr>\n",
       "    <tr>\n",
       "      <th>max</th>\n",
       "      <td>8.900000</td>\n",
       "      <td>9.100000</td>\n",
       "      <td>8.100000</td>\n",
       "      <td>10.900000</td>\n",
       "      <td>8.700000</td>\n",
       "      <td>9.100000</td>\n",
       "      <td>10.100000</td>\n",
       "      <td>25.200000</td>\n",
       "      <td>25.500000</td>\n",
       "      <td>15.100000</td>\n",
       "      <td>22.100000</td>\n",
       "      <td>22.500000</td>\n",
       "      <td>28.400000</td>\n",
       "      <td>29.200000</td>\n",
       "      <td>32.400000</td>\n",
       "      <td>34.900000</td>\n",
       "      <td>37.700000</td>\n",
       "    </tr>\n",
       "  </tbody>\n",
       "</table>\n",
       "</div>"
      ],
      "text/plain": [
       "name        Fine particles (PM 2.5)                                  \\\n",
       "time_period     Annual Average 2021 Annual Average 2022 Summer 2020   \n",
       "count                    141.000000          141.000000   11.000000   \n",
       "mean                       6.760993            6.067376    7.172727   \n",
       "std                        0.563759            0.711487    0.433799   \n",
       "min                        5.900000            5.000000    6.500000   \n",
       "25%                        6.400000            5.600000    6.900000   \n",
       "50%                        6.600000            6.000000    7.200000   \n",
       "75%                        7.000000            6.300000    7.400000   \n",
       "max                        8.900000            9.100000    8.100000   \n",
       "\n",
       "name                                                               \\\n",
       "time_period Summer 2021 Summer 2022 Winter 2020-21 Winter 2021-22   \n",
       "count        141.000000  141.000000     141.000000     141.000000   \n",
       "mean           8.617730    6.728369       6.907092       7.076596   \n",
       "std            0.669785    0.630230       0.562983       0.699453   \n",
       "min            7.200000    5.500000       6.300000       5.700000   \n",
       "25%            8.200000    6.200000       6.500000       6.700000   \n",
       "50%            8.600000    6.800000       6.700000       7.000000   \n",
       "75%            8.900000    7.100000       7.100000       7.300000   \n",
       "max           10.900000    8.700000       9.100000      10.100000   \n",
       "\n",
       "name        Nitrogen dioxide (NO2)                                  \\\n",
       "time_period    Annual Average 2021 Annual Average 2022 Summer 2020   \n",
       "count                   141.000000          141.000000   10.000000   \n",
       "mean                     17.004255           16.054610   12.250000   \n",
       "std                       2.591190            2.556573    2.650052   \n",
       "min                      11.100000            9.300000    7.500000   \n",
       "25%                      15.300000           14.700000   10.850000   \n",
       "50%                      16.700000           15.800000   13.400000   \n",
       "75%                      18.600000           17.400000   14.000000   \n",
       "max                      25.200000           25.500000   15.100000   \n",
       "\n",
       "name                                                               Ozone (O3)  \\\n",
       "time_period Summer 2021 Summer 2022 Winter 2020-21 Winter 2021-22 Summer 2020   \n",
       "count        141.000000  141.000000     141.000000     141.000000    5.000000   \n",
       "mean          12.631206   11.921277      21.837589      21.330496   30.920000   \n",
       "std            3.247947    2.711083       2.140212       2.396752    1.164903   \n",
       "min            4.900000    6.800000      17.400000      14.500000   29.300000   \n",
       "25%           10.800000   10.300000      20.200000      19.900000   30.600000   \n",
       "50%           12.300000   11.500000      21.800000      21.300000   30.700000   \n",
       "75%           14.500000   13.400000      23.100000      22.700000   31.600000   \n",
       "max           22.100000   22.500000      28.400000      29.200000   32.400000   \n",
       "\n",
       "name                                 \n",
       "time_period Summer 2021 Summer 2022  \n",
       "count        141.000000  141.000000  \n",
       "mean          29.736879   33.156028  \n",
       "std            1.523268    2.139238  \n",
       "min           26.900000   27.700000  \n",
       "25%           28.600000   31.500000  \n",
       "50%           29.700000   33.600000  \n",
       "75%           30.500000   34.600000  \n",
       "max           34.900000   37.700000  "
      ]
     },
     "execution_count": 11,
     "metadata": {},
     "output_type": "execute_result"
    }
   ],
   "source": [
    "data.groupby(['name','time_period'])['data_value'].describe().transpose()"
   ]
  },
  {
   "cell_type": "markdown",
   "id": "02779b26",
   "metadata": {},
   "source": [
    "### Data Wrangling"
   ]
  },
  {
   "cell_type": "markdown",
   "id": "7dbcc7ed",
   "metadata": {},
   "source": [
    "The data-set is fairly clean - columns are stored as the proper data type and there were no meaningful missing values. \n",
    "\n",
    "I will insert columns that will group observations into 'high' or 'low' categories based on their observed data_values, where high is above the 50th percentile and low is below."
   ]
  },
  {
   "cell_type": "code",
   "execution_count": 12,
   "id": "501d29e0",
   "metadata": {},
   "outputs": [],
   "source": [
    "medians = data.groupby('name')['data_value'].transform('median')\n",
    "\n",
    "data['measurement_rank'] = ['high' if x > median else 'low' for x, median in zip(data['data_value'], medians)]"
   ]
  },
  {
   "cell_type": "code",
   "execution_count": 13,
   "id": "e610cb16",
   "metadata": {},
   "outputs": [
    {
     "data": {
      "text/html": [
       "<div>\n",
       "<style scoped>\n",
       "    .dataframe tbody tr th:only-of-type {\n",
       "        vertical-align: middle;\n",
       "    }\n",
       "\n",
       "    .dataframe tbody tr th {\n",
       "        vertical-align: top;\n",
       "    }\n",
       "\n",
       "    .dataframe thead th {\n",
       "        text-align: right;\n",
       "    }\n",
       "</style>\n",
       "<table border=\"1\" class=\"dataframe\">\n",
       "  <thead>\n",
       "    <tr style=\"text-align: right;\">\n",
       "      <th></th>\n",
       "      <th>unique_id</th>\n",
       "      <th>indicator_id</th>\n",
       "      <th>name</th>\n",
       "      <th>measure</th>\n",
       "      <th>measure_info</th>\n",
       "      <th>geo_type_name</th>\n",
       "      <th>geo_join_id</th>\n",
       "      <th>geo_place_name</th>\n",
       "      <th>time_period</th>\n",
       "      <th>start_date</th>\n",
       "      <th>data_value</th>\n",
       "      <th>measurement_rank</th>\n",
       "    </tr>\n",
       "  </thead>\n",
       "  <tbody>\n",
       "    <tr>\n",
       "      <th>0</th>\n",
       "      <td>825849</td>\n",
       "      <td>375</td>\n",
       "      <td>Nitrogen dioxide (NO2)</td>\n",
       "      <td>Mean</td>\n",
       "      <td>ppb</td>\n",
       "      <td>CD</td>\n",
       "      <td>101</td>\n",
       "      <td>Financial District (CD1)</td>\n",
       "      <td>Summer 2022</td>\n",
       "      <td>2022-06-01T00:00:00.000</td>\n",
       "      <td>16.9</td>\n",
       "      <td>high</td>\n",
       "    </tr>\n",
       "    <tr>\n",
       "      <th>1</th>\n",
       "      <td>823483</td>\n",
       "      <td>365</td>\n",
       "      <td>Fine particles (PM 2.5)</td>\n",
       "      <td>Mean</td>\n",
       "      <td>mcg/m3</td>\n",
       "      <td>CD</td>\n",
       "      <td>304</td>\n",
       "      <td>Bushwick (CD4)</td>\n",
       "      <td>Summer 2022</td>\n",
       "      <td>2022-06-01T00:00:00.000</td>\n",
       "      <td>6.8</td>\n",
       "      <td>low</td>\n",
       "    </tr>\n",
       "    <tr>\n",
       "      <th>2</th>\n",
       "      <td>823373</td>\n",
       "      <td>365</td>\n",
       "      <td>Fine particles (PM 2.5)</td>\n",
       "      <td>Mean</td>\n",
       "      <td>mcg/m3</td>\n",
       "      <td>UHF34</td>\n",
       "      <td>305307</td>\n",
       "      <td>Upper East Side-Gramercy</td>\n",
       "      <td>Summer 2022</td>\n",
       "      <td>2022-06-01T00:00:00.000</td>\n",
       "      <td>7.5</td>\n",
       "      <td>high</td>\n",
       "    </tr>\n",
       "    <tr>\n",
       "      <th>3</th>\n",
       "      <td>823495</td>\n",
       "      <td>365</td>\n",
       "      <td>Fine particles (PM 2.5)</td>\n",
       "      <td>Mean</td>\n",
       "      <td>mcg/m3</td>\n",
       "      <td>CD</td>\n",
       "      <td>308</td>\n",
       "      <td>Crown Heights and Prospect Heights (CD8)</td>\n",
       "      <td>Summer 2022</td>\n",
       "      <td>2022-06-01T00:00:00.000</td>\n",
       "      <td>6.6</td>\n",
       "      <td>low</td>\n",
       "    </tr>\n",
       "    <tr>\n",
       "      <th>4</th>\n",
       "      <td>823567</td>\n",
       "      <td>365</td>\n",
       "      <td>Fine particles (PM 2.5)</td>\n",
       "      <td>Mean</td>\n",
       "      <td>mcg/m3</td>\n",
       "      <td>CD</td>\n",
       "      <td>414</td>\n",
       "      <td>Rockaway and Broad Channel (CD14)</td>\n",
       "      <td>Summer 2022</td>\n",
       "      <td>2022-06-01T00:00:00.000</td>\n",
       "      <td>5.5</td>\n",
       "      <td>low</td>\n",
       "    </tr>\n",
       "  </tbody>\n",
       "</table>\n",
       "</div>"
      ],
      "text/plain": [
       "   unique_id  indicator_id                     name measure measure_info  \\\n",
       "0     825849           375   Nitrogen dioxide (NO2)    Mean          ppb   \n",
       "1     823483           365  Fine particles (PM 2.5)    Mean       mcg/m3   \n",
       "2     823373           365  Fine particles (PM 2.5)    Mean       mcg/m3   \n",
       "3     823495           365  Fine particles (PM 2.5)    Mean       mcg/m3   \n",
       "4     823567           365  Fine particles (PM 2.5)    Mean       mcg/m3   \n",
       "\n",
       "  geo_type_name  geo_join_id                            geo_place_name  \\\n",
       "0            CD          101                  Financial District (CD1)   \n",
       "1            CD          304                            Bushwick (CD4)   \n",
       "2         UHF34       305307                  Upper East Side-Gramercy   \n",
       "3            CD          308  Crown Heights and Prospect Heights (CD8)   \n",
       "4            CD          414         Rockaway and Broad Channel (CD14)   \n",
       "\n",
       "   time_period               start_date  data_value measurement_rank  \n",
       "0  Summer 2022  2022-06-01T00:00:00.000        16.9             high  \n",
       "1  Summer 2022  2022-06-01T00:00:00.000         6.8              low  \n",
       "2  Summer 2022  2022-06-01T00:00:00.000         7.5             high  \n",
       "3  Summer 2022  2022-06-01T00:00:00.000         6.6              low  \n",
       "4  Summer 2022  2022-06-01T00:00:00.000         5.5              low  "
      ]
     },
     "execution_count": 13,
     "metadata": {},
     "output_type": "execute_result"
    }
   ],
   "source": [
    "data.head()"
   ]
  },
  {
   "cell_type": "markdown",
   "id": "93b1ab10",
   "metadata": {},
   "source": [
    "First, I am interested in seeing how the measurement of air pollution changed from one period to another (eg, summer 2021 to 2022). I will create a grouped bar chart with labels.\n",
    "\n",
    "I will need to create a pivot table of the dataframe that has the average value of each measurement for the time periods of interest across the different measurement types"
   ]
  },
  {
   "cell_type": "code",
   "execution_count": 14,
   "id": "b00a974b",
   "metadata": {
    "scrolled": true
   },
   "outputs": [],
   "source": [
    "data_pivoted = data.pivot_table(values = 'data_value', index = 'time_period', columns = 'name')\n",
    "data_pivoted.columns.name = None"
   ]
  },
  {
   "cell_type": "code",
   "execution_count": 15,
   "id": "668868d0",
   "metadata": {},
   "outputs": [
    {
     "data": {
      "text/html": [
       "<div>\n",
       "<style scoped>\n",
       "    .dataframe tbody tr th:only-of-type {\n",
       "        vertical-align: middle;\n",
       "    }\n",
       "\n",
       "    .dataframe tbody tr th {\n",
       "        vertical-align: top;\n",
       "    }\n",
       "\n",
       "    .dataframe thead th {\n",
       "        text-align: right;\n",
       "    }\n",
       "</style>\n",
       "<table border=\"1\" class=\"dataframe\">\n",
       "  <thead>\n",
       "    <tr style=\"text-align: right;\">\n",
       "      <th></th>\n",
       "      <th>Fine particles (PM 2.5)</th>\n",
       "      <th>Nitrogen dioxide (NO2)</th>\n",
       "      <th>Ozone (O3)</th>\n",
       "    </tr>\n",
       "    <tr>\n",
       "      <th>time_period</th>\n",
       "      <th></th>\n",
       "      <th></th>\n",
       "      <th></th>\n",
       "    </tr>\n",
       "  </thead>\n",
       "  <tbody>\n",
       "    <tr>\n",
       "      <th>Annual Average 2021</th>\n",
       "      <td>6.760993</td>\n",
       "      <td>17.004255</td>\n",
       "      <td>NaN</td>\n",
       "    </tr>\n",
       "    <tr>\n",
       "      <th>Annual Average 2022</th>\n",
       "      <td>6.067376</td>\n",
       "      <td>16.054610</td>\n",
       "      <td>NaN</td>\n",
       "    </tr>\n",
       "    <tr>\n",
       "      <th>Summer 2020</th>\n",
       "      <td>7.172727</td>\n",
       "      <td>12.250000</td>\n",
       "      <td>30.920000</td>\n",
       "    </tr>\n",
       "    <tr>\n",
       "      <th>Summer 2021</th>\n",
       "      <td>8.617730</td>\n",
       "      <td>12.631206</td>\n",
       "      <td>29.736879</td>\n",
       "    </tr>\n",
       "    <tr>\n",
       "      <th>Summer 2022</th>\n",
       "      <td>6.728369</td>\n",
       "      <td>11.921277</td>\n",
       "      <td>33.156028</td>\n",
       "    </tr>\n",
       "    <tr>\n",
       "      <th>Winter 2020-21</th>\n",
       "      <td>6.907092</td>\n",
       "      <td>21.837589</td>\n",
       "      <td>NaN</td>\n",
       "    </tr>\n",
       "    <tr>\n",
       "      <th>Winter 2021-22</th>\n",
       "      <td>7.076596</td>\n",
       "      <td>21.330496</td>\n",
       "      <td>NaN</td>\n",
       "    </tr>\n",
       "  </tbody>\n",
       "</table>\n",
       "</div>"
      ],
      "text/plain": [
       "                     Fine particles (PM 2.5)  Nitrogen dioxide (NO2)  \\\n",
       "time_period                                                            \n",
       "Annual Average 2021                 6.760993               17.004255   \n",
       "Annual Average 2022                 6.067376               16.054610   \n",
       "Summer 2020                         7.172727               12.250000   \n",
       "Summer 2021                         8.617730               12.631206   \n",
       "Summer 2022                         6.728369               11.921277   \n",
       "Winter 2020-21                      6.907092               21.837589   \n",
       "Winter 2021-22                      7.076596               21.330496   \n",
       "\n",
       "                     Ozone (O3)  \n",
       "time_period                      \n",
       "Annual Average 2021         NaN  \n",
       "Annual Average 2022         NaN  \n",
       "Summer 2020           30.920000  \n",
       "Summer 2021           29.736879  \n",
       "Summer 2022           33.156028  \n",
       "Winter 2020-21              NaN  \n",
       "Winter 2021-22              NaN  "
      ]
     },
     "execution_count": 15,
     "metadata": {},
     "output_type": "execute_result"
    }
   ],
   "source": [
    "data_pivoted"
   ]
  },
  {
   "cell_type": "markdown",
   "id": "713bb360",
   "metadata": {},
   "source": [
    "I am also interested in seeing the distribution of the observations of each polutant. I will create three data frames where each polutant is its own column and the observations are the measurements."
   ]
  },
  {
   "cell_type": "code",
   "execution_count": 16,
   "id": "e047ebf9",
   "metadata": {},
   "outputs": [],
   "source": [
    "data_pivoted_hist = data.pivot(index = 'unique_id', columns = 'name', values = 'data_value')"
   ]
  },
  {
   "cell_type": "code",
   "execution_count": 17,
   "id": "367aa2e9",
   "metadata": {},
   "outputs": [],
   "source": [
    "data_pivoted_hist.columns.name = None"
   ]
  },
  {
   "cell_type": "code",
   "execution_count": 18,
   "id": "cab8c375",
   "metadata": {},
   "outputs": [
    {
     "data": {
      "text/html": [
       "<div>\n",
       "<style scoped>\n",
       "    .dataframe tbody tr th:only-of-type {\n",
       "        vertical-align: middle;\n",
       "    }\n",
       "\n",
       "    .dataframe tbody tr th {\n",
       "        vertical-align: top;\n",
       "    }\n",
       "\n",
       "    .dataframe thead th {\n",
       "        text-align: right;\n",
       "    }\n",
       "</style>\n",
       "<table border=\"1\" class=\"dataframe\">\n",
       "  <thead>\n",
       "    <tr style=\"text-align: right;\">\n",
       "      <th></th>\n",
       "      <th>Fine particles (PM 2.5)</th>\n",
       "      <th>Nitrogen dioxide (NO2)</th>\n",
       "      <th>Ozone (O3)</th>\n",
       "    </tr>\n",
       "    <tr>\n",
       "      <th>unique_id</th>\n",
       "      <th></th>\n",
       "      <th></th>\n",
       "      <th></th>\n",
       "    </tr>\n",
       "  </thead>\n",
       "  <tbody>\n",
       "    <tr>\n",
       "      <th>667167</th>\n",
       "      <td>NaN</td>\n",
       "      <td>14.0</td>\n",
       "      <td>NaN</td>\n",
       "    </tr>\n",
       "    <tr>\n",
       "      <th>667185</th>\n",
       "      <td>NaN</td>\n",
       "      <td>15.1</td>\n",
       "      <td>NaN</td>\n",
       "    </tr>\n",
       "    <tr>\n",
       "      <th>667215</th>\n",
       "      <td>NaN</td>\n",
       "      <td>14.5</td>\n",
       "      <td>NaN</td>\n",
       "    </tr>\n",
       "    <tr>\n",
       "      <th>667503</th>\n",
       "      <td>NaN</td>\n",
       "      <td>7.5</td>\n",
       "      <td>NaN</td>\n",
       "    </tr>\n",
       "    <tr>\n",
       "      <th>667587</th>\n",
       "      <td>NaN</td>\n",
       "      <td>14.0</td>\n",
       "      <td>NaN</td>\n",
       "    </tr>\n",
       "    <tr>\n",
       "      <th>...</th>\n",
       "      <td>...</td>\n",
       "      <td>...</td>\n",
       "      <td>...</td>\n",
       "    </tr>\n",
       "    <tr>\n",
       "      <th>827144</th>\n",
       "      <td>NaN</td>\n",
       "      <td>NaN</td>\n",
       "      <td>35.3</td>\n",
       "    </tr>\n",
       "    <tr>\n",
       "      <th>827145</th>\n",
       "      <td>NaN</td>\n",
       "      <td>NaN</td>\n",
       "      <td>34.5</td>\n",
       "    </tr>\n",
       "    <tr>\n",
       "      <th>827146</th>\n",
       "      <td>NaN</td>\n",
       "      <td>NaN</td>\n",
       "      <td>30.2</td>\n",
       "    </tr>\n",
       "    <tr>\n",
       "      <th>827147</th>\n",
       "      <td>NaN</td>\n",
       "      <td>NaN</td>\n",
       "      <td>34.7</td>\n",
       "    </tr>\n",
       "    <tr>\n",
       "      <th>827148</th>\n",
       "      <td>NaN</td>\n",
       "      <td>NaN</td>\n",
       "      <td>32.2</td>\n",
       "    </tr>\n",
       "  </tbody>\n",
       "</table>\n",
       "<p>2000 rows × 3 columns</p>\n",
       "</div>"
      ],
      "text/plain": [
       "           Fine particles (PM 2.5)  Nitrogen dioxide (NO2)  Ozone (O3)\n",
       "unique_id                                                             \n",
       "667167                         NaN                    14.0         NaN\n",
       "667185                         NaN                    15.1         NaN\n",
       "667215                         NaN                    14.5         NaN\n",
       "667503                         NaN                     7.5         NaN\n",
       "667587                         NaN                    14.0         NaN\n",
       "...                            ...                     ...         ...\n",
       "827144                         NaN                     NaN        35.3\n",
       "827145                         NaN                     NaN        34.5\n",
       "827146                         NaN                     NaN        30.2\n",
       "827147                         NaN                     NaN        34.7\n",
       "827148                         NaN                     NaN        32.2\n",
       "\n",
       "[2000 rows x 3 columns]"
      ]
     },
     "execution_count": 18,
     "metadata": {},
     "output_type": "execute_result"
    }
   ],
   "source": [
    "data_pivoted_hist"
   ]
  },
  {
   "cell_type": "markdown",
   "id": "7a183bc6",
   "metadata": {},
   "source": [
    "### Visualization - matplotlib"
   ]
  },
  {
   "cell_type": "markdown",
   "id": "10f07736",
   "metadata": {},
   "source": [
    "Below I will create a barplot that shows the average reading for Fine particles and Nitrogen dioxide for the periods of interest below. "
   ]
  },
  {
   "cell_type": "markdown",
   "id": "421080d9",
   "metadata": {},
   "source": [
    "First, I will filter the data for the Summer 2021, Summer 2022, Winter 2020-21, and Winter 2021-22 observations. I will also convert the index to a column."
   ]
  },
  {
   "cell_type": "code",
   "execution_count": 19,
   "id": "ccb47b40",
   "metadata": {},
   "outputs": [],
   "source": [
    "data_pivoted['season'] = data_pivoted.index"
   ]
  },
  {
   "cell_type": "code",
   "execution_count": 20,
   "id": "a4673891",
   "metadata": {},
   "outputs": [],
   "source": [
    "periods_of_interest = ['Summer 2021', 'Summer 2022', 'Winter 2020-21', 'Winter 2021-22']\n",
    "bar_plot_data = data_pivoted[data_pivoted['season'].isin(periods_of_interest)]"
   ]
  },
  {
   "cell_type": "code",
   "execution_count": 21,
   "id": "d08bc30c",
   "metadata": {},
   "outputs": [
    {
     "data": {
      "image/png": "[encoded data removed]",
      "text/plain": [
       "<Figure size 1000x500 with 3 Axes>"
      ]
     },
     "metadata": {},
     "output_type": "display_data"
    }
   ],
   "source": [
    "fig, axs = plt.subplots(1, 3, figsize=(10,5))\n",
    "axs[0].bar(bar_plot_data['season'],bar_plot_data['Fine particles (PM 2.5)'], color = 'red', edgecolor = 'black')\n",
    "axs[0].set_title('Average Fine Particles by season', fontsize = 10)\n",
    "axs[0].set_ylabel('mcg/m3')\n",
    "\n",
    "axs[1].bar(bar_plot_data['season'],bar_plot_data['Nitrogen dioxide (NO2)'], edgecolor = 'black')\n",
    "axs[1].set_title('Average NO2 by season', fontsize = 10)\n",
    "axs[1].set_ylabel('ppb')\n",
    "\n",
    "axs[2].bar(bar_plot_data['season'],bar_plot_data['Ozone (O3)'], color = 'green', edgecolor = 'black')\n",
    "axs[2].set_title('Average O3 by season', fontsize = 10)\n",
    "axs[2].set_ylabel('ppb')\n",
    "\n",
    "for ax in axs.flat:\n",
    "    ax.tick_params(axis='x', rotation=90)\n",
    "\n",
    "\n",
    "plt.tight_layout()\n",
    "\n",
    "plt.show()"
   ]
  },
  {
   "cell_type": "markdown",
   "id": "5d8e5b26",
   "metadata": {},
   "source": [
    "The above plots show the average values for each pollutant by the four seasons of interest."
   ]
  },
  {
   "cell_type": "markdown",
   "id": "bc4f4e83",
   "metadata": {},
   "source": [
    "Now that I plotted the average values by season, I am curious to see what the distribution of the individual observations for each polutant look like."
   ]
  },
  {
   "cell_type": "code",
   "execution_count": 22,
   "id": "85382beb",
   "metadata": {},
   "outputs": [
    {
     "data": {
      "image/png": "[encoded data removed]",
      "text/plain": [
       "<Figure size 1000x500 with 3 Axes>"
      ]
     },
     "metadata": {},
     "output_type": "display_data"
    }
   ],
   "source": [
    "\n",
    "fig2, axs2 = plt.subplots(1, 3, figsize=(10,5))\n",
    "axs2[0].hist(x = data_pivoted_hist['Fine particles (PM 2.5)'], color = 'red', edgecolor = 'black')\n",
    "axs2[0].set_title('Distribution of Fine particle measurements', fontsize = 10)\n",
    "axs2[0].set_ylabel('count')\n",
    "\n",
    "axs2[1].hist(x = data_pivoted_hist['Nitrogen dioxide (NO2)'], edgecolor = 'black')\n",
    "axs2[1].set_title('Distribution of NO2', fontsize = 10)\n",
    "axs2[1].set_ylabel('count')\n",
    "\n",
    "axs2[2].hist(x = data_pivoted_hist['Ozone (O3)'], color = 'green', edgecolor = 'black')\n",
    "axs2[2].set_title('Distribution of O3', fontsize = 10)\n",
    "axs2[2].set_ylabel('count')\n",
    "\n",
    "\n",
    "plt.tight_layout()\n",
    "\n",
    "plt.show()"
   ]
  },
  {
   "cell_type": "markdown",
   "id": "8b17ae06",
   "metadata": {},
   "source": [
    "The above plots shows the distribution of measurments of each polutant type across all time periods."
   ]
  },
  {
   "cell_type": "markdown",
   "id": "35e6c3fa",
   "metadata": {},
   "source": [
    "### Visualizations - Seaborn"
   ]
  },
  {
   "cell_type": "markdown",
   "id": "14cc6f8f",
   "metadata": {},
   "source": [
    "First, I will recreate the bar plots in seaborn"
   ]
  },
  {
   "cell_type": "code",
   "execution_count": 23,
   "id": "70b63551",
   "metadata": {},
   "outputs": [
    {
     "data": {
      "image/png": "[encoded data removed]",
      "text/plain": [
       "<Figure size 1000x500 with 3 Axes>"
      ]
     },
     "metadata": {},
     "output_type": "display_data"
    }
   ],
   "source": [
    "fig_sns_bar, axs_sns_bar = plt.subplots(1, 3, figsize=(10,5))\n",
    "\n",
    "sns.barplot(ax = axs_sns_bar[0], x = bar_plot_data['season'], y = bar_plot_data['Fine particles (PM 2.5)'], \n",
    "            color = 'red', edgecolor = 'black')\n",
    "\n",
    "axs_sns_bar[0].set_title('Average Fine Particles by season', fontsize = 10)\n",
    "axs_sns_bar[0].set_ylabel('mcg/m3')\n",
    "\n",
    "\n",
    "sns.barplot(ax = axs_sns_bar[1], x = bar_plot_data['season'], y = bar_plot_data['Nitrogen dioxide (NO2)'],\n",
    "           color = 'blue', edgecolor = 'black')\n",
    "\n",
    "axs_sns_bar[1].set_title('Average NO2 by season', fontsize = 10)\n",
    "axs_sns_bar[1].set_ylabel('ppb')\n",
    "\n",
    "\n",
    "sns.barplot(ax = axs_sns_bar[2], x = bar_plot_data['season'], y = bar_plot_data['Ozone (O3)'], \n",
    "            color = 'green', edgecolor = 'black')\n",
    "\n",
    "axs_sns_bar[2].set_title('Average O3 by season', fontsize = 10)\n",
    "axs_sns_bar[2].set_ylabel('ppb')\n",
    "\n",
    "for ax in axs_sns_bar.flat:\n",
    "    ax.tick_params(axis='x', rotation=90)\n",
    "\n",
    "                 \n",
    "plt.tight_layout()\n",
    "\n",
    "plt.show()\n"
   ]
  },
  {
   "cell_type": "markdown",
   "id": "aa3309fe",
   "metadata": {},
   "source": [
    "I recreated the bar plots with Seaborn and there are two main differences:\n",
    "-Seaborn automatically included an x-axis label (season) which Matplotlib did not automatically include\n",
    "-Matplotlibe automatically excluded the Winter measurments for O3 (which were NaN) while Seaborn did not."
   ]
  },
  {
   "cell_type": "markdown",
   "id": "fc42e978",
   "metadata": {},
   "source": [
    "Next, I recreate the histograms in Seaborn"
   ]
  },
  {
   "cell_type": "code",
   "execution_count": 24,
   "id": "a04b5452",
   "metadata": {},
   "outputs": [
    {
     "data": {
      "image/png": "[encoded data removed]",
      "text/plain": [
       "<Figure size 1000x500 with 3 Axes>"
      ]
     },
     "metadata": {},
     "output_type": "display_data"
    }
   ],
   "source": [
    "fig_sns_hist, axs_sns_hist = plt.subplots(1, 3, figsize=(10,5))\n",
    "\n",
    "sns.histplot(ax = axs_sns_hist[0], x = data_pivoted_hist['Fine particles (PM 2.5)'], color = 'red')\n",
    "\n",
    "axs_sns_hist[0].set_title('Distribution of Fine particle measurements', fontsize = 10)\n",
    "axs_sns_hist[0].set_ylabel('count')\n",
    "\n",
    "\n",
    "sns.histplot(ax = axs_sns_hist[1], x = data_pivoted_hist['Nitrogen dioxide (NO2)'])\n",
    "\n",
    "axs_sns_hist[1].set_title('Distribution of NO2', fontsize = 10)\n",
    "axs_sns_hist[1].set_ylabel('count')\n",
    "\n",
    "\n",
    "sns.histplot(ax = axs_sns_hist[2], x = data_pivoted_hist['Ozone (O3)'], color = 'green')\n",
    "\n",
    "axs_sns_hist[2].set_title('Distribution of O3', fontsize = 10)\n",
    "axs_sns_hist[2].set_ylabel('count')\n",
    "\n",
    "for ax in axs_sns_hist.flat:\n",
    "    ax.tick_params(axis='x', rotation=90)\n",
    "\n",
    "                 \n",
    "plt.tight_layout()\n",
    "\n",
    "plt.show()"
   ]
  },
  {
   "cell_type": "markdown",
   "id": "19ed8ccd",
   "metadata": {},
   "source": [
    "I recreated the histograms with Seaborn and there is one main difference\n",
    "-Seaborn defaulted to a higher number of bins than Matplotlib"
   ]
  },
  {
   "cell_type": "markdown",
   "id": "9d8511b8",
   "metadata": {},
   "source": [
    "The Seaborn Bar plots and histograms are displaying the same information as the Matplotlib plots\n",
    "-average polutant measurments by season for the bar plots\n",
    "-distribution of polutant measurements across the four seasons of interest for the three different polutants"
   ]
  },
  {
   "cell_type": "markdown",
   "id": "f39874ca",
   "metadata": {},
   "source": [
    "### Part 3"
   ]
  },
  {
   "cell_type": "markdown",
   "id": "5a1d9f42",
   "metadata": {},
   "source": [
    "Because I created plots with subplots, there wasn't too much difference in creating the plots in Seaborn and Matplotlib, besides smaller things like Seaborn automatically including an x-axis label for the bar plot, Seaborn not dropping NaNs for the O3 bar plot, and Seaborn defaulting to a larger number of bins for the histograms"
   ]
  },
  {
   "cell_type": "markdown",
   "id": "cbb1600e",
   "metadata": {},
   "source": [
    "However, for plots that do not include subplots, Seaborn is usually able to generate the plots with less lines of code and with more information (such as automatically including lables). Additionally, Seaborn plots tend to be more visualy appealing. However, the trade-off is that Seaborn plots are less customizable. Matplotlib may be more appropriate in scenarios where the plots need to be standardized to a specific company standard."
   ]
  },
  {
   "cell_type": "markdown",
   "id": "c00d027b",
   "metadata": {},
   "source": [
    "### Conclusion"
   ]
  },
  {
   "cell_type": "markdown",
   "id": "61574de3",
   "metadata": {},
   "source": [
    "This data-set contained air quality measurements in NYC for different air polutants in various time periods. I filtered the data-set to look at Summer 2021, Summer 2022, Winter 20-21, and Winter 21-22 observations.\n",
    "\n",
    "The bar plots showed the following:\n",
    "-The average fine particles measurement slightly decreased summer over summer and slightly increased winter over winter.\n",
    "-The average NO2 measurement decreased summer over summer and winter over winter.\n",
    "-The average O3 measurement increased summer over summer.\n",
    "\n",
    "-Across the four time periods, the Fine Particles distribution had a right skew\n",
    "-Across the four time periods, the NO2 distribution seemed leptokurtic.\n",
    "-Across the two time periods, the O3 distribution had a right skew."
   ]
  }
 ],
 "metadata": {
  "kernelspec": {
   "display_name": "Python 3 (ipykernel)",
   "language": "python",
   "name": "python3"
  },
  "language_info": {
   "codemirror_mode": {
    "name": "ipython",
    "version": 3
   },
   "file_extension": ".py",
   "mimetype": "text/x-python",
   "name": "python",
   "nbconvert_exporter": "python",
   "pygments_lexer": "ipython3",
   "version": "3.11.4"
  }
 },
 "nbformat": 4,
 "nbformat_minor": 5
}
